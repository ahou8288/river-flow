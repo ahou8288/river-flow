{
 "cells": [
  {
   "cell_type": "code",
   "execution_count": 1,
   "metadata": {},
   "outputs": [],
   "source": [
    "# Imports\n",
    "import os\n",
    "import bz2\n",
    "import numpy as np\n",
    "from PIL import TiffImagePlugin\n",
    "from IPython.core.display import display\n",
    "from PIL import Image as Img"
   ]
  },
  {
   "cell_type": "code",
   "execution_count": 2,
   "metadata": {},
   "outputs": [],
   "source": [
    "import sys\n",
    "sys.path.append(\"../\")\n",
    "from algorithms.flow import flow\n",
    "from data_structures.location_graph import LocationGraph"
   ]
  },
  {
   "cell_type": "code",
   "execution_count": 3,
   "metadata": {},
   "outputs": [],
   "source": [
    "def load_image_data() -> TiffImagePlugin.TiffImageFile:\n",
    "    path = os.path.dirname(os.path.abspath('')) + '/data/'\n",
    "    data = bz2.decompress(open(path + 'dem.tif.bz2', 'rb').read())\n",
    "    with open(path + 'dem2.tiff', 'wb') as handle:\n",
    "        handle.write(data)\n",
    "    return Img.open(path + 'dem2.tiff')"
   ]
  },
  {
   "cell_type": "code",
   "execution_count": 4,
   "metadata": {},
   "outputs": [
    {
     "name": "stdout",
     "output_type": "stream",
     "text": [
      "<class 'numpy.ndarray'>\n",
      "1574\n",
      "145\n"
     ]
    }
   ],
   "source": [
    "def load_and_crop_data():\n",
    "    raw_height_array = np.asarray(load_image_data())\n",
    "    crop_size = 2000\n",
    "    offset = 0\n",
    "    cropped = raw_height_array[offset:offset+crop_size, offset:offset+crop_size]\n",
    "    print(type(cropped))\n",
    "    print(cropped.max())\n",
    "    print(cropped.min())\n",
    "    return cropped\n",
    "cropped_data = load_and_crop_data()"
   ]
  },
  {
   "cell_type": "code",
   "execution_count": 5,
   "metadata": {},
   "outputs": [
    {
     "name": "stdout",
     "output_type": "stream",
     "text": [
      "CPU times: user 1min 31s, sys: 2.99 s, total: 1min 34s\n",
      "Wall time: 1min 33s\n"
     ]
    }
   ],
   "source": [
    "%%time\n",
    "height_map = cropped_data.tolist()\n",
    "graph = LocationGraph(height_map)"
   ]
  },
  {
   "cell_type": "code",
   "execution_count": 6,
   "metadata": {},
   "outputs": [],
   "source": [
    "def normalize_values(i):\n",
    "    return int((i-1)*255/1193)"
   ]
  },
  {
   "cell_type": "code",
   "execution_count": 17,
   "metadata": {},
   "outputs": [
    {
     "name": "stdout",
     "output_type": "stream",
     "text": [
      "Writer will save images to /home/andrew/personal/river-flow/data/flows/\n"
     ]
    }
   ],
   "source": [
    "class ImageWriter(object):\n",
    "    def __init__(self, path, size, save_frequency=10000):\n",
    "        if not os.path.exists(path):\n",
    "            os.makedirs(path)\n",
    "        self.write_path = path\n",
    "        self.index = 0\n",
    "        self.image = Img.new('L', (size, size))\n",
    "        self.pixels = self.image.load()\n",
    "        self.save_frequency=save_frequency\n",
    "        self.image_number = 0\n",
    "        self.size = size\n",
    "        self.previous_percent = 0\n",
    "\n",
    "    def update(self, node):\n",
    "        self.index += 1\n",
    "        self.pixels[node.home[0],node.home[1]] = normalize_values(node.flow)\n",
    "        if self.index % self.save_frequency == 0:\n",
    "            filename = f\"{self.write_path}{self.image_number}.tiff\"\n",
    "            (self.image).save(filename)\n",
    "            \n",
    "            percent_finished = int(self.index*100/self.size**2)\n",
    "            if percent_finished != self.previous_percent:\n",
    "                print(f'Processed {percent_finished}% of {self.size**2} images.')\n",
    "                self.previous_percent = percent_finished\n",
    "            self.image_number += 1\n",
    "\n",
    "# Initialize image file writer\n",
    "def initialize_writer():\n",
    "    writer_path = f\"{os.path.dirname(os.path.dirname(os.path.abspath('')))}/data/flows/\"\n",
    "    print(f\"Writer will save images to {writer_path}\")\n",
    "    writer = ImageWriter(writer_path, 2000, 2500)\n",
    "    return writer\n",
    "writer = initialize_writer()"
   ]
  },
  {
   "cell_type": "code",
   "execution_count": 18,
   "metadata": {},
   "outputs": [
    {
     "name": "stdout",
     "output_type": "stream",
     "text": [
      "Processed 1% of 4000000 images.\n",
      "Processed 2% of 4000000 images.\n",
      "Processed 3% of 4000000 images.\n",
      "Processed 4% of 4000000 images.\n",
      "Processed 5% of 4000000 images.\n",
      "Processed 6% of 4000000 images.\n",
      "Processed 7% of 4000000 images.\n",
      "Processed 8% of 4000000 images.\n",
      "Processed 9% of 4000000 images.\n",
      "Processed 10% of 4000000 images.\n",
      "Processed 11% of 4000000 images.\n",
      "Processed 12% of 4000000 images.\n",
      "Processed 13% of 4000000 images.\n",
      "Processed 14% of 4000000 images.\n",
      "Processed 15% of 4000000 images.\n",
      "Processed 16% of 4000000 images.\n",
      "Processed 17% of 4000000 images.\n",
      "Processed 18% of 4000000 images.\n",
      "Processed 19% of 4000000 images.\n",
      "Processed 20% of 4000000 images.\n",
      "Processed 21% of 4000000 images.\n",
      "Processed 22% of 4000000 images.\n",
      "Processed 23% of 4000000 images.\n",
      "Processed 24% of 4000000 images.\n",
      "Processed 25% of 4000000 images.\n",
      "Processed 26% of 4000000 images.\n",
      "Processed 27% of 4000000 images.\n",
      "Processed 28% of 4000000 images.\n",
      "Processed 29% of 4000000 images.\n",
      "Processed 30% of 4000000 images.\n",
      "Processed 31% of 4000000 images.\n",
      "Processed 32% of 4000000 images.\n",
      "Processed 33% of 4000000 images.\n",
      "Processed 34% of 4000000 images.\n",
      "Processed 35% of 4000000 images.\n",
      "Processed 36% of 4000000 images.\n",
      "Processed 37% of 4000000 images.\n",
      "Processed 38% of 4000000 images.\n",
      "Processed 39% of 4000000 images.\n",
      "Processed 40% of 4000000 images.\n",
      "Processed 41% of 4000000 images.\n",
      "Processed 42% of 4000000 images.\n",
      "Processed 43% of 4000000 images.\n",
      "Processed 44% of 4000000 images.\n",
      "Processed 45% of 4000000 images.\n",
      "Processed 46% of 4000000 images.\n",
      "Processed 47% of 4000000 images.\n",
      "Processed 48% of 4000000 images.\n",
      "Processed 49% of 4000000 images.\n",
      "Processed 50% of 4000000 images.\n",
      "Processed 51% of 4000000 images.\n",
      "Processed 52% of 4000000 images.\n",
      "Processed 53% of 4000000 images.\n",
      "Processed 54% of 4000000 images.\n",
      "Processed 55% of 4000000 images.\n",
      "Processed 56% of 4000000 images.\n",
      "Processed 57% of 4000000 images.\n",
      "Processed 58% of 4000000 images.\n",
      "Processed 59% of 4000000 images.\n",
      "Processed 60% of 4000000 images.\n",
      "Processed 61% of 4000000 images.\n",
      "Processed 62% of 4000000 images.\n",
      "Processed 63% of 4000000 images.\n",
      "Processed 64% of 4000000 images.\n",
      "Processed 65% of 4000000 images.\n",
      "Processed 66% of 4000000 images.\n",
      "Processed 67% of 4000000 images.\n",
      "Processed 68% of 4000000 images.\n",
      "Processed 69% of 4000000 images.\n",
      "Processed 70% of 4000000 images.\n",
      "Processed 71% of 4000000 images.\n",
      "Processed 72% of 4000000 images.\n",
      "Processed 73% of 4000000 images.\n",
      "Processed 74% of 4000000 images.\n",
      "Processed 75% of 4000000 images.\n",
      "Processed 76% of 4000000 images.\n",
      "Processed 77% of 4000000 images.\n",
      "Processed 78% of 4000000 images.\n",
      "Processed 79% of 4000000 images.\n",
      "Processed 80% of 4000000 images.\n",
      "Processed 81% of 4000000 images.\n",
      "Processed 82% of 4000000 images.\n",
      "Processed 83% of 4000000 images.\n",
      "Processed 84% of 4000000 images.\n",
      "Processed 85% of 4000000 images.\n",
      "Processed 86% of 4000000 images.\n",
      "Processed 87% of 4000000 images.\n",
      "Processed 88% of 4000000 images.\n",
      "Processed 89% of 4000000 images.\n",
      "Processed 90% of 4000000 images.\n",
      "Processed 91% of 4000000 images.\n",
      "Processed 92% of 4000000 images.\n",
      "Processed 93% of 4000000 images.\n",
      "Processed 94% of 4000000 images.\n",
      "Processed 95% of 4000000 images.\n",
      "Processed 96% of 4000000 images.\n",
      "Processed 97% of 4000000 images.\n",
      "Processed 98% of 4000000 images.\n",
      "Processed 99% of 4000000 images.\n",
      "Processed 100% of 4000000 images.\n",
      "CPU times: user 21.4 s, sys: 9.95 s, total: 31.3 s\n",
      "Wall time: 32.9 s\n"
     ]
    }
   ],
   "source": [
    "%%time\n",
    "nodes_with_flow = flow(graph, writer)"
   ]
  },
  {
   "cell_type": "code",
   "execution_count": 19,
   "metadata": {},
   "outputs": [
    {
     "name": "stdout",
     "output_type": "stream",
     "text": [
      "4000000\n",
      "615404258.500778\n",
      "4.0\n"
     ]
    }
   ],
   "source": [
    "# flows = [n.flow for n in nodes_with_flow.ascending()]\n",
    "flows = [n.flow for n in nodes_with_flow.ascending()]\n",
    "print(len(flows))\n",
    "print(max(flows))\n",
    "print(min(flows))"
   ]
  },
  {
   "cell_type": "code",
   "execution_count": null,
   "metadata": {},
   "outputs": [],
   "source": []
  }
 ],
 "metadata": {
  "kernelspec": {
   "display_name": "Python 3",
   "language": "python",
   "name": "python3"
  },
  "language_info": {
   "codemirror_mode": {
    "name": "ipython",
    "version": 3
   },
   "file_extension": ".py",
   "mimetype": "text/x-python",
   "name": "python",
   "nbconvert_exporter": "python",
   "pygments_lexer": "ipython3",
   "version": "3.7.1"
  }
 },
 "nbformat": 4,
 "nbformat_minor": 2
}
