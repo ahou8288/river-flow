{
 "cells": [
  {
   "cell_type": "code",
   "execution_count": null,
   "metadata": {},
   "outputs": [],
   "source": [
    "# Imports\n",
    "import os\n",
    "import bz2\n",
    "import numpy as np\n",
    "from PIL import TiffImagePlugin\n",
    "from IPython.core.display import display\n",
    "from PIL import Image as Img"
   ]
  },
  {
   "cell_type": "code",
   "execution_count": null,
   "metadata": {},
   "outputs": [],
   "source": [
    "import sys\n",
    "sys.path.append(\"../\")\n",
    "from algorithms.flow import flow\n",
    "from data_structures.location_graph import LocationGraph"
   ]
  },
  {
   "cell_type": "code",
   "execution_count": null,
   "metadata": {},
   "outputs": [],
   "source": [
    "def load_image_data() -> TiffImagePlugin.TiffImageFile:\n",
    "    path = os.path.dirname(os.path.abspath('')) + '/data/'\n",
    "    data = bz2.decompress(open(path + 'dem.tif.bz2', 'rb').read())\n",
    "    with open(path + 'dem2.tiff', 'wb') as handle:\n",
    "        handle.write(data)\n",
    "    return Img.open(path + 'dem2.tiff')"
   ]
  },
  {
   "cell_type": "code",
   "execution_count": null,
   "metadata": {},
   "outputs": [],
   "source": [
    "def load_and_crop_data():\n",
    "    raw_height_array = np.asarray(load_image_data())\n",
    "    print(type(raw_height_array))\n",
    "    print(raw_height_array.max())\n",
    "    print(raw_height_array.min())\n",
    "    scaled_data=raw_height_array\n",
    "    # scaled_data = (raw_height_array/(raw_height_array.max()/255.0)).astype(np.uint8)\n",
    "    crop_size = 1000\n",
    "    offset = 900\n",
    "    return scaled_data[offset:offset+crop_size, offset:offset+crop_size]\n",
    "cropped_data = load_and_crop_data()"
   ]
  },
  {
   "cell_type": "code",
   "execution_count": null,
   "metadata": {},
   "outputs": [],
   "source": [
    "%%time\n",
    "height_map = cropped_data.tolist()\n",
    "graph = LocationGraph(height_map)"
   ]
  },
  {
   "cell_type": "code",
   "execution_count": null,
   "metadata": {},
   "outputs": [],
   "source": [
    "class ImageWriter(object):\n",
    "    def __init__(self, path, size, save_frequency=10000):\n",
    "        self.write_path = path\n",
    "        self.index = 0\n",
    "        self.image = Img.new('L', (size, size))\n",
    "        self.pixels = self.image.load()\n",
    "        self.save_frequency=save_frequency\n",
    "        self.image_number = 0\n",
    "\n",
    "    def update(self, node):\n",
    "        self.index += 1\n",
    "        \n",
    "        self.pixels[node.home[0],node.home[1]] = 100\n",
    "        if self.index % self.save_frequency == 0:\n",
    "            filename = f\"{self.write_path}{self.image_number}.tiff\"\n",
    "            (self.image).save(filename)\n",
    "            print(f\"writer viewed {self.index} nodes\")\n",
    "            print(f\"saved image {filename}\")\n",
    "            self.image_number += 1\n",
    "\n",
    "# Initialize image file writer\n",
    "def initialize_writer():\n",
    "    writer_path = f\"{os.path.dirname(os.path.dirname(os.path.abspath('')))}/data/img/\"\n",
    "    \n",
    "    print(f\"Writer will save images to {writer_path}\")\n",
    "    writer = ImageWriter(writer_path, 1000, 5000)\n",
    "    return writer\n",
    "writer = initialize_writer()"
   ]
  },
  {
   "cell_type": "code",
   "execution_count": null,
   "metadata": {},
   "outputs": [],
   "source": [
    "%%time\n",
    "nodes_with_flow = flow(graph, writer)"
   ]
  },
  {
   "cell_type": "code",
   "execution_count": null,
   "metadata": {},
   "outputs": [],
   "source": []
  }
 ],
 "metadata": {
  "kernelspec": {
   "display_name": "Python 3",
   "language": "python",
   "name": "python3"
  },
  "language_info": {
   "codemirror_mode": {
    "name": "ipython",
    "version": 3
   },
   "file_extension": ".py",
   "mimetype": "text/x-python",
   "name": "python",
   "nbconvert_exporter": "python",
   "pygments_lexer": "ipython3",
   "version": "3.7.1"
  }
 },
 "nbformat": 4,
 "nbformat_minor": 2
}
