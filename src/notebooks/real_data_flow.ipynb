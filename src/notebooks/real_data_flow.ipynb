{
 "cells": [
  {
   "cell_type": "code",
   "execution_count": 1,
   "metadata": {},
   "outputs": [],
   "source": [
    "# Imports\n",
    "import os\n",
    "import bz2\n",
    "import numpy as np\n",
    "from PIL import TiffImagePlugin\n",
    "from IPython.core.display import display\n",
    "from PIL import Image as Img\n",
    "import sys\n",
    "sys.path.append(\"../\")\n",
    "from algorithms.flow import flow\n",
    "from data_structures.location_graph import LocationGraph\n",
    "from utils.dummy_writer import DummyWriter"
   ]
  },
  {
   "cell_type": "code",
   "execution_count": 3,
   "metadata": {},
   "outputs": [],
   "source": [
    "def load_image_data() -> TiffImagePlugin.TiffImageFile:\n",
    "    path = os.path.dirname(os.path.abspath('')) + '/data/'\n",
    "    data = bz2.decompress(open(path + 'dem.tif.bz2', 'rb').read())\n",
    "    with open(path + 'dem2.tiff', 'wb') as handle:\n",
    "        handle.write(data)\n",
    "    return Img.open(path + 'dem2.tiff')"
   ]
  },
  {
   "cell_type": "code",
   "execution_count": 4,
   "metadata": {},
   "outputs": [],
   "source": [
    "def load_and_crop_data(crop_size, offset):\n",
    "    raw_height_array = np.asarray(load_image_data())\n",
    "    cropped = raw_height_array[offset:offset+crop_size, offset:offset+crop_size]\n",
    "    print('Loaded height data')\n",
    "    return cropped"
   ]
  },
  {
   "cell_type": "code",
   "execution_count": 5,
   "metadata": {},
   "outputs": [],
   "source": [
    "def normalize_values(i):\n",
    "    return int((i-1)*255/1193)\n",
    "\n",
    "def get_colour_function(flows):\n",
    "    return normalize_values"
   ]
  },
  {
   "cell_type": "code",
   "execution_count": 6,
   "metadata": {},
   "outputs": [],
   "source": [
    "class ImageWriter(object):\n",
    "    def __init__(self, path, size, save_frequency):\n",
    "        if not os.path.exists(path):\n",
    "            os.makedirs(path)\n",
    "        self.write_path = path\n",
    "        self.index = 0\n",
    "        self.image = Img.new('L', (size, size))\n",
    "        self.pixels = self.image.load()\n",
    "        self.save_frequency=save_frequency\n",
    "        self.image_number = 0\n",
    "        self.size = size\n",
    "        self.previous_percent = 0\n",
    "\n",
    "    def update(self, node):\n",
    "        self.index += 1\n",
    "        self.pixels[node.home[0],node.home[1]] = normalize_values(node.flow)\n",
    "        if self.index % self.save_frequency == 0:\n",
    "            filename = f\"{self.write_path}{self.image_number}.tiff\"\n",
    "            (self.image).save(filename)\n",
    "            \n",
    "            percent_finished = int(self.index*100/self.size**2)\n",
    "            if percent_finished != self.previous_percent and percent_finished%2==0:\n",
    "                print(f'Processed {percent_finished}% of {self.size**2} images.')\n",
    "                self.previous_percent = percent_finished\n",
    "            self.image_number += 1\n",
    "\n",
    "# Initialize image file writer\n",
    "def initialize_writer(size, save_frequency, job_name):\n",
    "    writer_path = f\"{os.path.dirname(os.path.dirname(os.path.abspath('')))}/data/{job_name}/\"\n",
    "    print(f\"Writer will save images to {writer_path}\")\n",
    "    writer = ImageWriter(writer_path, size, save_frequency)\n",
    "    return writer"
   ]
  },
  {
   "cell_type": "code",
   "execution_count": 7,
   "metadata": {},
   "outputs": [
    {
     "name": "stdout",
     "output_type": "stream",
     "text": [
      "Num images: 1296\n",
      "Total data size: 16.81 GB\n",
      "Writer will save images to /home/andrew/personal/river-flow/data/fullscale/\n"
     ]
    }
   ],
   "source": [
    "# Do a run with no images\n",
    "# Configure colour function\n",
    "# Do a run generating images\n",
    "size = 3601\n",
    "frequency = 10000\n",
    "job_name = \"fullscale\"\n",
    "\n",
    "def report_settings():\n",
    "    num_images = int(size**2/frequency)\n",
    "    print(f\"Num images: {num_images}\")\n",
    "    total_size = ((size/1000)**2)*num_images\n",
    "    if total_size > 1000:\n",
    "        print(f\"Total data size: {total_size/1000.0:.2f} GB\")\n",
    "    else:\n",
    "        print(f\"Total data size: {total_size:.2f} MB\")\n",
    "        \n",
    "report_settings()\n",
    "writer = initialize_writer(size, frequency, job_name)"
   ]
  },
  {
   "cell_type": "code",
   "execution_count": 8,
   "metadata": {},
   "outputs": [
    {
     "name": "stdout",
     "output_type": "stream",
     "text": [
      "Loaded height data\n",
      "Creating Graph\n",
      "CPU times: user 7min 17s, sys: 39.4 s, total: 7min 56s\n",
      "Wall time: 7min 56s\n"
     ]
    }
   ],
   "source": [
    "%%time\n",
    "height_map = load_and_crop_data(size,0).tolist()\n",
    "print(\"Creating Graph\")\n",
    "graph = LocationGraph(height_map)"
   ]
  },
  {
   "cell_type": "code",
   "execution_count": 9,
   "metadata": {},
   "outputs": [
    {
     "name": "stdout",
     "output_type": "stream",
     "text": [
      "Running flow for colour calibration\n",
      "CPU times: user 53.2 s, sys: 171 ms, total: 53.4 s\n",
      "Wall time: 53.4 s\n"
     ]
    }
   ],
   "source": [
    "%%time\n",
    "print(\"Running flow for colour calibration\")\n",
    "nodes_with_flow = flow(graph, DummyWriter())\n",
    "flows = [n.flow for n in nodes_with_flow.ascending()]\n",
    "colour_function = get_colour_function(flows)"
   ]
  },
  {
   "cell_type": "code",
   "execution_count": 10,
   "metadata": {},
   "outputs": [
    {
     "name": "stdout",
     "output_type": "stream",
     "text": [
      "Running real flow simulation\n",
      "Processed 2% of 12967201 images.\n",
      "Processed 4% of 12967201 images.\n",
      "Processed 6% of 12967201 images.\n",
      "Processed 8% of 12967201 images.\n",
      "Processed 10% of 12967201 images.\n",
      "Processed 12% of 12967201 images.\n",
      "Processed 14% of 12967201 images.\n",
      "Processed 16% of 12967201 images.\n",
      "Processed 18% of 12967201 images.\n",
      "Processed 20% of 12967201 images.\n",
      "Processed 22% of 12967201 images.\n",
      "Processed 24% of 12967201 images.\n",
      "Processed 26% of 12967201 images.\n",
      "Processed 28% of 12967201 images.\n",
      "Processed 30% of 12967201 images.\n",
      "Processed 32% of 12967201 images.\n",
      "Processed 34% of 12967201 images.\n",
      "Processed 36% of 12967201 images.\n",
      "Processed 38% of 12967201 images.\n",
      "Processed 40% of 12967201 images.\n",
      "Processed 42% of 12967201 images.\n",
      "Processed 44% of 12967201 images.\n",
      "Processed 46% of 12967201 images.\n",
      "Processed 48% of 12967201 images.\n",
      "Processed 50% of 12967201 images.\n",
      "Processed 52% of 12967201 images.\n",
      "Processed 54% of 12967201 images.\n",
      "Processed 56% of 12967201 images.\n",
      "Processed 58% of 12967201 images.\n",
      "Processed 60% of 12967201 images.\n",
      "Processed 62% of 12967201 images.\n",
      "Processed 64% of 12967201 images.\n",
      "Processed 66% of 12967201 images.\n",
      "Processed 68% of 12967201 images.\n",
      "Processed 70% of 12967201 images.\n",
      "Processed 72% of 12967201 images.\n",
      "Processed 74% of 12967201 images.\n",
      "Processed 76% of 12967201 images.\n",
      "Processed 78% of 12967201 images.\n",
      "Processed 80% of 12967201 images.\n",
      "Processed 82% of 12967201 images.\n",
      "Processed 84% of 12967201 images.\n",
      "Processed 86% of 12967201 images.\n",
      "Processed 88% of 12967201 images.\n",
      "Processed 90% of 12967201 images.\n",
      "Processed 92% of 12967201 images.\n",
      "Processed 94% of 12967201 images.\n",
      "Processed 96% of 12967201 images.\n",
      "Processed 98% of 12967201 images.\n",
      "CPU times: user 1min 2s, sys: 24.5 s, total: 1min 26s\n",
      "Wall time: 1min 26s\n"
     ]
    }
   ],
   "source": [
    "%%time\n",
    "print(\"Running real flow simulation\")\n",
    "flow(graph, writer)"
   ]
  }
 ],
 "metadata": {
  "kernelspec": {
   "display_name": "Python 3",
   "language": "python",
   "name": "python3"
  },
  "language_info": {
   "codemirror_mode": {
    "name": "ipython",
    "version": 3
   },
   "file_extension": ".py",
   "mimetype": "text/x-python",
   "name": "python",
   "nbconvert_exporter": "python",
   "pygments_lexer": "ipython3",
   "version": "3.7.1"
  }
 },
 "nbformat": 4,
 "nbformat_minor": 2
}
