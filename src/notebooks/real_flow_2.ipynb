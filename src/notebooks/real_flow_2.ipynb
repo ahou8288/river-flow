{
 "cells": [
  {
   "cell_type": "code",
   "execution_count": 1,
   "metadata": {},
   "outputs": [],
   "source": [
    "# Imports\n",
    "from tqdm import tqdm_notebook as tqdm\n",
    "\n",
    "import sys\n",
    "sys.path.append(\"../\")\n",
    "\n",
    "from algorithms.flow import flow\n",
    "from data_structures.location_graph import LocationGraph\n",
    "from utils.dummy_writer import DummyWriter\n",
    "from utils.image_writer import ImageWriter\n",
    "from utils.report_settings import report_settings\n",
    "from utils.load_image import load_and_crop_data\n",
    "from utils.colour import get_colour_function\n",
    "from utils.publish import make_video, make_image"
   ]
  },
  {
   "cell_type": "code",
   "execution_count": 2,
   "metadata": {},
   "outputs": [
    {
     "name": "stdout",
     "output_type": "stream",
     "text": [
      "Num images: 99\n",
      "Total data size: 78.42 MB\n"
     ]
    }
   ],
   "source": [
    "# Params\n",
    "size = (890, 890)\n",
    "offset = (0, 0)\n",
    "frequency = 8000\n",
    "job_name = \"github_readme\"\n",
    "report_settings(size, frequency, job_name)\n",
    "height_map = load_and_crop_data(size, offset).tolist()"
   ]
  },
  {
   "cell_type": "code",
   "execution_count": 3,
   "metadata": {},
   "outputs": [
    {
     "name": "stdout",
     "output_type": "stream",
     "text": [
      "Creating graph\n"
     ]
    },
    {
     "data": {
      "application/vnd.jupyter.widget-view+json": {
       "model_id": "cab776441b354835a0b7158dd387ca34",
       "version_major": 2,
       "version_minor": 0
      },
      "text/plain": [
       "HBox(children=(IntProgress(value=0, description='Creating nodes', max=890, style=ProgressStyle(description_wid…"
      ]
     },
     "metadata": {},
     "output_type": "display_data"
    },
    {
     "name": "stdout",
     "output_type": "stream",
     "text": [
      "\n"
     ]
    },
    {
     "data": {
      "application/vnd.jupyter.widget-view+json": {
       "model_id": "3e58aed1568e4be2945c91f9f9998138",
       "version_major": 2,
       "version_minor": 0
      },
      "text/plain": [
       "HBox(children=(IntProgress(value=0, description='Setting border', max=890, style=ProgressStyle(description_wid…"
      ]
     },
     "metadata": {},
     "output_type": "display_data"
    },
    {
     "name": "stdout",
     "output_type": "stream",
     "text": [
      "\n"
     ]
    },
    {
     "data": {
      "application/vnd.jupyter.widget-view+json": {
       "model_id": "1dc2744f4621455b9ea873d623b21404",
       "version_major": 2,
       "version_minor": 0
      },
      "text/plain": [
       "HBox(children=(IntProgress(value=0, description='Connecting nodes', max=890, style=ProgressStyle(description_w…"
      ]
     },
     "metadata": {},
     "output_type": "display_data"
    },
    {
     "name": "stdout",
     "output_type": "stream",
     "text": [
      "\n",
      "Merging equal height nodes\n",
      "Sorting nodes\n",
      "CPU times: user 11 s, sys: 187 ms, total: 11.2 s\n",
      "Wall time: 11.2 s\n"
     ]
    }
   ],
   "source": [
    "%%time\n",
    "graph = LocationGraph(height_map)"
   ]
  },
  {
   "cell_type": "code",
   "execution_count": 4,
   "metadata": {},
   "outputs": [
    {
     "data": {
      "application/vnd.jupyter.widget-view+json": {
       "model_id": "d166ae0569164293830f7307c1a800b6",
       "version_major": 2,
       "version_minor": 0
      },
      "text/plain": [
       "HBox(children=(IntProgress(value=0, max=600529), HTML(value='')))"
      ]
     },
     "metadata": {},
     "output_type": "display_data"
    },
    {
     "name": "stdout",
     "output_type": "stream",
     "text": [
      "\n",
      "CPU times: user 1.96 s, sys: 3.91 ms, total: 1.97 s\n",
      "Wall time: 1.96 s\n"
     ]
    }
   ],
   "source": [
    "%%time\n",
    "nodes_with_flow = flow(graph, DummyWriter(), size)"
   ]
  },
  {
   "cell_type": "code",
   "execution_count": 5,
   "metadata": {},
   "outputs": [
    {
     "name": "stdout",
     "output_type": "stream",
     "text": [
      "Max flow: 351.4019185858335\n",
      "Max log(flow): 5.861930635572564\n",
      "Min log(flow): 0.0\n",
      "Writer will save images to /home/andrew/personal/river-flow/data/github_readme/\n"
     ]
    }
   ],
   "source": [
    "flows = [n.flow for n in nodes_with_flow.ascending()]\n",
    "imgWriter = ImageWriter(size, frequency, job_name, get_colour_function(flows))"
   ]
  },
  {
   "cell_type": "code",
   "execution_count": 6,
   "metadata": {},
   "outputs": [
    {
     "data": {
      "application/vnd.jupyter.widget-view+json": {
       "model_id": "c88ceeb04a624fa19dd135a9e626693d",
       "version_major": 2,
       "version_minor": 0
      },
      "text/plain": [
       "HBox(children=(IntProgress(value=0, max=600529), HTML(value='')))"
      ]
     },
     "metadata": {},
     "output_type": "display_data"
    },
    {
     "name": "stdout",
     "output_type": "stream",
     "text": [
      "\n",
      "CPU times: user 1.65 s, sys: 340 ms, total: 1.99 s\n",
      "Wall time: 1.98 s\n"
     ]
    }
   ],
   "source": [
    "%%time\n",
    "for node in tqdm(graph.descending(), total=len(graph), unit=\" nodes\"):\n",
    "    imgWriter.update(node)"
   ]
  },
  {
   "cell_type": "code",
   "execution_count": 7,
   "metadata": {},
   "outputs": [
    {
     "name": "stdout",
     "output_type": "stream",
     "text": [
      "Saved video to /home/andrew/personal/river-flow/data/video/github_readme.avi\n",
      "Saved altitude image to /home/andrew/personal/river-flow/data/github_readme/github_readme.png\n",
      "CPU times: user 1.5 s, sys: 124 ms, total: 1.62 s\n",
      "Wall time: 1.46 s\n"
     ]
    }
   ],
   "source": [
    "%%time\n",
    "make_video(job_name, quality=1)\n",
    "make_image(job_name, load_and_crop_data(size, offset))"
   ]
  }
 ],
 "metadata": {
  "kernelspec": {
   "display_name": "Python 3",
   "language": "python",
   "name": "python3"
  },
  "language_info": {
   "codemirror_mode": {
    "name": "ipython",
    "version": 3
   },
   "file_extension": ".py",
   "mimetype": "text/x-python",
   "name": "python",
   "nbconvert_exporter": "python",
   "pygments_lexer": "ipython3",
   "version": "3.7.1"
  }
 },
 "nbformat": 4,
 "nbformat_minor": 2
}
