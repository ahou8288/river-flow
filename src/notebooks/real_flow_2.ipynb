{
 "cells": [
  {
   "cell_type": "code",
   "execution_count": 1,
   "metadata": {},
   "outputs": [],
   "source": [
    "# Imports\n",
    "import os\n",
    "import bz2\n",
    "import numpy as np\n",
    "from PIL import TiffImagePlugin\n",
    "from IPython.core.display import display\n",
    "from PIL import Image as Img\n",
    "import sys\n",
    "import math\n",
    "from functools import partial\n",
    "sys.path.append(\"../\")\n",
    "from algorithms.flow import flow\n",
    "from data_structures.location_graph import LocationGraph\n",
    "from utils.dummy_writer import DummyWriter\n",
    "from utils.image_writer import ImageWriter\n",
    "from tqdm import tqdm_notebook as tqdm"
   ]
  },
  {
   "cell_type": "code",
   "execution_count": 2,
   "metadata": {},
   "outputs": [],
   "source": [
    "def load_image_data() -> TiffImagePlugin.TiffImageFile:\n",
    "    path = os.path.dirname(os.path.abspath('')) + '/data/'\n",
    "    data = bz2.decompress(open(path + 'dem.tif.bz2', 'rb').read())\n",
    "    with open(path + 'dem2.tiff', 'wb') as handle:\n",
    "        handle.write(data)\n",
    "    return Img.open(path + 'dem2.tiff')\n",
    "\n",
    "def load_and_crop_data(crop_size, offset):\n",
    "    raw_height_array = np.asarray(load_image_data())\n",
    "    return raw_height_array[offset:offset+crop_size, offset:offset+crop_size]"
   ]
  },
  {
   "cell_type": "code",
   "execution_count": 3,
   "metadata": {},
   "outputs": [
    {
     "name": "stdout",
     "output_type": "stream",
     "text": [
      "Num images: 500\n",
      "Total data size: 500.00 MB\n"
     ]
    }
   ],
   "source": [
    "# Params\n",
    "size = 1000\n",
    "frequency = 2000\n",
    "job_name = \"small\"\n",
    "\n",
    "def report_settings():\n",
    "    num_images = int(size**2/frequency)\n",
    "    print(f\"Num images: {num_images}\")\n",
    "    total_size = ((size/1000)**2)*num_images\n",
    "    if total_size > 1000:\n",
    "        print(f\"Total data size: {total_size/1000.0:.2f} GB\")\n",
    "    else:\n",
    "        print(f\"Total data size: {total_size:.2f} MB\")\n",
    "report_settings()"
   ]
  },
  {
   "cell_type": "code",
   "execution_count": 4,
   "metadata": {},
   "outputs": [
    {
     "name": "stdout",
     "output_type": "stream",
     "text": [
      "Creating Graph\n"
     ]
    },
    {
     "data": {
      "application/vnd.jupyter.widget-view+json": {
       "model_id": "4ab870fce5f14215a18d36ecd5469b64",
       "version_major": 2,
       "version_minor": 0
      },
      "text/plain": [
       "HBox(children=(IntProgress(value=0, description='Creating nodes', max=1000, style=ProgressStyle(description_wi…"
      ]
     },
     "metadata": {},
     "output_type": "display_data"
    },
    {
     "name": "stdout",
     "output_type": "stream",
     "text": [
      "\n"
     ]
    },
    {
     "data": {
      "application/vnd.jupyter.widget-view+json": {
       "model_id": "3ecc02a34c824f94b9dc6a2ce8ec24dd",
       "version_major": 2,
       "version_minor": 0
      },
      "text/plain": [
       "HBox(children=(IntProgress(value=0, description='Setting border', max=1000, style=ProgressStyle(description_wi…"
      ]
     },
     "metadata": {},
     "output_type": "display_data"
    },
    {
     "name": "stdout",
     "output_type": "stream",
     "text": [
      "\n"
     ]
    },
    {
     "data": {
      "application/vnd.jupyter.widget-view+json": {
       "model_id": "e85f1d0a14444070a8f1e952dd23414c",
       "version_major": 2,
       "version_minor": 0
      },
      "text/plain": [
       "HBox(children=(IntProgress(value=0, description='Connecting nodes', max=1000, style=ProgressStyle(description_…"
      ]
     },
     "metadata": {},
     "output_type": "display_data"
    },
    {
     "name": "stdout",
     "output_type": "stream",
     "text": [
      "\n",
      "Sorting nodes\n",
      "Building linked list\n",
      "CPU times: user 14.7 s, sys: 272 ms, total: 14.9 s\n",
      "Wall time: 14.9 s\n"
     ]
    }
   ],
   "source": [
    "%%time\n",
    "height_map = load_and_crop_data(size,0).tolist()\n",
    "print(\"Creating Graph\")\n",
    "graph = LocationGraph(height_map)"
   ]
  },
  {
   "cell_type": "code",
   "execution_count": 5,
   "metadata": {},
   "outputs": [
    {
     "name": "stdout",
     "output_type": "stream",
     "text": [
      "Running flow simulation\n",
      "CPU times: user 3.33 s, sys: 7.97 ms, total: 3.34 s\n",
      "Wall time: 3.34 s\n"
     ]
    }
   ],
   "source": [
    "%%time\n",
    "print(\"Running flow simulation\")\n",
    "nodes_with_flow = flow(graph, DummyWriter())"
   ]
  },
  {
   "cell_type": "code",
   "execution_count": 6,
   "metadata": {},
   "outputs": [],
   "source": [
    "def normalize_values(i, max_log_value):\n",
    "    i=math.log(i)*256/max_log_value\n",
    "    val = int(i % 256)\n",
    "    colour_ranges = [\n",
    "        (255,255,255-val),\n",
    "        (255,255-val,0),\n",
    "        (255-val,0,0),\n",
    "    ]\n",
    "    category = int((i % 256*len(colour_ranges))/256)\n",
    "    return colour_ranges[category]\n",
    "\n",
    "def get_colour_function(flows):\n",
    "    max_log_value = max([math.log(i) for i in flows])\n",
    "    print(f\"Max flow: {max(flows)}\")\n",
    "    print(f\"Max log(flow): {max_log_value}\")\n",
    "    return partial(normalize_values, max_log_value=max_log_value)"
   ]
  },
  {
   "cell_type": "code",
   "execution_count": 7,
   "metadata": {},
   "outputs": [
    {
     "name": "stdout",
     "output_type": "stream",
     "text": [
      "Max flow: 928.0282462013395\n",
      "Max log(flow): 6.833062170039943\n",
      "Writer will save images to /home/andrew/personal/river-flow/data/small/\n"
     ]
    }
   ],
   "source": [
    "flows = [n.flow for n in nodes_with_flow.ascending()]\n",
    "writer = ImageWriter(size, frequency, job_name, get_colour_function(flows))"
   ]
  },
  {
   "cell_type": "code",
   "execution_count": 8,
   "metadata": {},
   "outputs": [],
   "source": [
    "def write_images(graph, writer):\n",
    "    for node in tqdm(graph.descending(), total=size**2, unit=\"images\"):\n",
    "        writer.update(node)"
   ]
  },
  {
   "cell_type": "code",
   "execution_count": 9,
   "metadata": {},
   "outputs": [
    {
     "data": {
      "application/vnd.jupyter.widget-view+json": {
       "model_id": "70e64fe36866467a8e7cacbd3bb85d82",
       "version_major": 2,
       "version_minor": 0
      },
      "text/plain": [
       "HBox(children=(IntProgress(value=0, max=1000000), HTML(value='')))"
      ]
     },
     "metadata": {},
     "output_type": "display_data"
    },
    {
     "name": "stdout",
     "output_type": "stream",
     "text": [
      "\n"
     ]
    }
   ],
   "source": [
    "write_images(graph,writer)"
   ]
  }
 ],
 "metadata": {
  "kernelspec": {
   "display_name": "Python 3",
   "language": "python",
   "name": "python3"
  },
  "language_info": {
   "codemirror_mode": {
    "name": "ipython",
    "version": 3
   },
   "file_extension": ".py",
   "mimetype": "text/x-python",
   "name": "python",
   "nbconvert_exporter": "python",
   "pygments_lexer": "ipython3",
   "version": "3.7.1"
  }
 },
 "nbformat": 4,
 "nbformat_minor": 2
}
