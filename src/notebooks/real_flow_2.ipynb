{
 "cells": [
  {
   "cell_type": "code",
   "execution_count": 1,
   "metadata": {},
   "outputs": [],
   "source": [
    "# Imports\n",
    "import os\n",
    "import bz2\n",
    "import numpy as np\n",
    "from PIL import TiffImagePlugin\n",
    "from IPython.core.display import display\n",
    "from PIL import Image as Img\n",
    "import sys\n",
    "import math\n",
    "from functools import partial\n",
    "sys.path.append(\"../\")\n",
    "from algorithms.flow import flow\n",
    "from data_structures.location_graph import LocationGraph\n",
    "from utils.dummy_writer import DummyWriter\n",
    "from utils.image_writer import ImageWriter"
   ]
  },
  {
   "cell_type": "code",
   "execution_count": 2,
   "metadata": {},
   "outputs": [],
   "source": [
    "def load_image_data() -> TiffImagePlugin.TiffImageFile:\n",
    "    path = os.path.dirname(os.path.abspath('')) + '/data/'\n",
    "    data = bz2.decompress(open(path + 'dem.tif.bz2', 'rb').read())\n",
    "    with open(path + 'dem2.tiff', 'wb') as handle:\n",
    "        handle.write(data)\n",
    "    return Img.open(path + 'dem2.tiff')\n",
    "\n",
    "def load_and_crop_data(crop_size, offset):\n",
    "    raw_height_array = np.asarray(load_image_data())\n",
    "    return raw_height_array[offset:offset+crop_size, offset:offset+crop_size]"
   ]
  },
  {
   "cell_type": "code",
   "execution_count": 3,
   "metadata": {},
   "outputs": [
    {
     "name": "stdout",
     "output_type": "stream",
     "text": [
      "Num images: 500\n",
      "Total data size: 500.00 MB\n"
     ]
    }
   ],
   "source": [
    "# Params\n",
    "size = 1000\n",
    "frequency = 2000\n",
    "job_name = \"small\"\n",
    "\n",
    "def report_settings():\n",
    "    num_images = int(size**2/frequency)\n",
    "    print(f\"Num images: {num_images}\")\n",
    "    total_size = ((size/1000)**2)*num_images\n",
    "    if total_size > 1000:\n",
    "        print(f\"Total data size: {total_size/1000.0:.2f} GB\")\n",
    "    else:\n",
    "        print(f\"Total data size: {total_size:.2f} MB\")\n",
    "report_settings()"
   ]
  },
  {
   "cell_type": "code",
   "execution_count": 4,
   "metadata": {},
   "outputs": [
    {
     "name": "stdout",
     "output_type": "stream",
     "text": [
      "Creating Graph\n",
      "CPU times: user 15.7 s, sys: 244 ms, total: 16 s\n",
      "Wall time: 15.9 s\n"
     ]
    }
   ],
   "source": [
    "%%time\n",
    "height_map = load_and_crop_data(size,0).tolist()\n",
    "print(\"Creating Graph\")\n",
    "graph = LocationGraph(height_map)"
   ]
  },
  {
   "cell_type": "code",
   "execution_count": 5,
   "metadata": {},
   "outputs": [
    {
     "name": "stdout",
     "output_type": "stream",
     "text": [
      "Running flow simulation\n",
      "CPU times: user 3.76 s, sys: 20.5 ms, total: 3.78 s\n",
      "Wall time: 3.78 s\n"
     ]
    }
   ],
   "source": [
    "%%time\n",
    "print(\"Running flow simulation\")\n",
    "nodes_with_flow = flow(graph, DummyWriter())"
   ]
  },
  {
   "cell_type": "code",
   "execution_count": 26,
   "metadata": {},
   "outputs": [],
   "source": [
    "def normalize_values(i, max_log_value):\n",
    "    i=math.log(i)*256/max_log_value\n",
    "    val = int(i % 256)\n",
    "    colour_ranges = [\n",
    "        (255,int(128-val/2),int(128-val/2)),\n",
    "        (255-val,0,0),\n",
    "#         (255-val,0,0),\n",
    "    ]\n",
    "    category = int((i % 256*len(colour_ranges))/256)\n",
    "    return colour_ranges[category]\n",
    "\n",
    "def get_colour_function(flows):\n",
    "    max_log_value = max([math.log(i) for i in flows])\n",
    "    print(f\"Max flow: {max(flows)}\")\n",
    "    print(f\"Max log(flow): {max_log_value}\")\n",
    "    return partial(normalize_values, max_log_value=max_log_value)"
   ]
  },
  {
   "cell_type": "code",
   "execution_count": 27,
   "metadata": {},
   "outputs": [
    {
     "name": "stdout",
     "output_type": "stream",
     "text": [
      "Max flow: 928.0282462013395\n",
      "Max log(flow): 6.833062170039943\n",
      "Writer will save images to /home/andrew/personal/river-flow/data/small/\n"
     ]
    }
   ],
   "source": [
    "flows = [n.flow for n in nodes_with_flow.ascending()]\n",
    "writer = ImageWriter(size, frequency, job_name, get_colour_function(flows))"
   ]
  },
  {
   "cell_type": "code",
   "execution_count": 28,
   "metadata": {},
   "outputs": [],
   "source": [
    "def write_images(graph, writer):\n",
    "    for node in graph.descending():\n",
    "        writer.update(node)"
   ]
  },
  {
   "cell_type": "code",
   "execution_count": 29,
   "metadata": {},
   "outputs": [
    {
     "name": "stdout",
     "output_type": "stream",
     "text": [
      "Writing images from flow simulation\n",
      "Processed 2% of 1000000 images.\n",
      "Processed 4% of 1000000 images.\n",
      "Processed 6% of 1000000 images.\n",
      "Processed 8% of 1000000 images.\n",
      "Processed 10% of 1000000 images.\n",
      "Processed 12% of 1000000 images.\n",
      "Processed 14% of 1000000 images.\n",
      "Processed 16% of 1000000 images.\n",
      "Processed 18% of 1000000 images.\n",
      "Processed 20% of 1000000 images.\n",
      "Processed 22% of 1000000 images.\n",
      "Processed 24% of 1000000 images.\n",
      "Processed 26% of 1000000 images.\n",
      "Processed 28% of 1000000 images.\n",
      "Processed 30% of 1000000 images.\n",
      "Processed 32% of 1000000 images.\n",
      "Processed 34% of 1000000 images.\n",
      "Processed 36% of 1000000 images.\n",
      "Processed 38% of 1000000 images.\n",
      "Processed 40% of 1000000 images.\n",
      "Processed 42% of 1000000 images.\n",
      "Processed 44% of 1000000 images.\n",
      "Processed 46% of 1000000 images.\n",
      "Processed 48% of 1000000 images.\n",
      "Processed 50% of 1000000 images.\n",
      "Processed 52% of 1000000 images.\n",
      "Processed 54% of 1000000 images.\n",
      "Processed 56% of 1000000 images.\n",
      "Processed 58% of 1000000 images.\n",
      "Processed 60% of 1000000 images.\n",
      "Processed 62% of 1000000 images.\n",
      "Processed 64% of 1000000 images.\n",
      "Processed 66% of 1000000 images.\n",
      "Processed 68% of 1000000 images.\n",
      "Processed 70% of 1000000 images.\n",
      "Processed 72% of 1000000 images.\n",
      "Processed 74% of 1000000 images.\n",
      "Processed 76% of 1000000 images.\n",
      "Processed 78% of 1000000 images.\n",
      "Processed 80% of 1000000 images.\n",
      "Processed 82% of 1000000 images.\n",
      "Processed 84% of 1000000 images.\n",
      "Processed 86% of 1000000 images.\n",
      "Processed 88% of 1000000 images.\n",
      "Processed 90% of 1000000 images.\n",
      "Processed 92% of 1000000 images.\n",
      "Processed 94% of 1000000 images.\n",
      "Processed 96% of 1000000 images.\n",
      "Processed 98% of 1000000 images.\n",
      "Processed 100% of 1000000 images.\n",
      "CPU times: user 2.24 s, sys: 2.51 s, total: 4.76 s\n",
      "Wall time: 4.73 s\n"
     ]
    }
   ],
   "source": [
    "%%time\n",
    "print(\"Writing images from flow simulation\")\n",
    "write_images(graph,writer)"
   ]
  },
  {
   "cell_type": "code",
   "execution_count": null,
   "metadata": {},
   "outputs": [],
   "source": []
  }
 ],
 "metadata": {
  "kernelspec": {
   "display_name": "Python 3",
   "language": "python",
   "name": "python3"
  },
  "language_info": {
   "codemirror_mode": {
    "name": "ipython",
    "version": 3
   },
   "file_extension": ".py",
   "mimetype": "text/x-python",
   "name": "python",
   "nbconvert_exporter": "python",
   "pygments_lexer": "ipython3",
   "version": "3.7.1"
  }
 },
 "nbformat": 4,
 "nbformat_minor": 2
}
