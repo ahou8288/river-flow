{
 "cells": [
  {
   "cell_type": "code",
   "execution_count": 1,
   "metadata": {},
   "outputs": [],
   "source": [
    "# Imports\n",
    "import os\n",
    "import bz2\n",
    "import numpy as np\n",
    "from PIL import TiffImagePlugin\n",
    "from IPython.core.display import display\n",
    "from PIL import Image as Img\n",
    "import sys\n",
    "sys.path.append(\"../\")\n",
    "from algorithms.flow import flow\n",
    "from data_structures.location_graph import LocationGraph\n",
    "from utils.dummy_writer import DummyWriter\n",
    "from utils.image_writer import ImageWriter"
   ]
  },
  {
   "cell_type": "code",
   "execution_count": 2,
   "metadata": {},
   "outputs": [],
   "source": [
    "def load_image_data() -> TiffImagePlugin.TiffImageFile:\n",
    "    path = os.path.dirname(os.path.abspath('')) + '/data/'\n",
    "    data = bz2.decompress(open(path + 'dem.tif.bz2', 'rb').read())\n",
    "    with open(path + 'dem2.tiff', 'wb') as handle:\n",
    "        handle.write(data)\n",
    "    return Img.open(path + 'dem2.tiff')\n",
    "\n",
    "def load_and_crop_data(crop_size, offset):\n",
    "    raw_height_array = np.asarray(load_image_data())\n",
    "    return raw_height_array[offset:offset+crop_size, offset:offset+crop_size]"
   ]
  },
  {
   "cell_type": "code",
   "execution_count": 3,
   "metadata": {},
   "outputs": [],
   "source": [
    "def normalize_values(i):\n",
    "    return int((i-1)*255/1193)\n",
    "def get_colour_function(flows):\n",
    "    return normalize_values"
   ]
  },
  {
   "cell_type": "code",
   "execution_count": 4,
   "metadata": {},
   "outputs": [
    {
     "name": "stdout",
     "output_type": "stream",
     "text": [
      "Num images: 250\n",
      "Total data size: 62.50 MB\n"
     ]
    }
   ],
   "source": [
    "# Params\n",
    "size = 500\n",
    "frequency = 1000\n",
    "job_name = \"small\"\n",
    "\n",
    "def report_settings():\n",
    "    num_images = int(size**2/frequency)\n",
    "    print(f\"Num images: {num_images}\")\n",
    "    total_size = ((size/1000)**2)*num_images\n",
    "    if total_size > 1000:\n",
    "        print(f\"Total data size: {total_size/1000.0:.2f} GB\")\n",
    "    else:\n",
    "        print(f\"Total data size: {total_size:.2f} MB\")\n",
    "report_settings()"
   ]
  },
  {
   "cell_type": "code",
   "execution_count": 5,
   "metadata": {},
   "outputs": [
    {
     "name": "stdout",
     "output_type": "stream",
     "text": [
      "Creating Graph\n",
      "CPU times: user 2.91 s, sys: 151 ms, total: 3.06 s\n",
      "Wall time: 3.06 s\n"
     ]
    }
   ],
   "source": [
    "%%time\n",
    "height_map = load_and_crop_data(size,0).tolist()\n",
    "print(\"Creating Graph\")\n",
    "graph = LocationGraph(height_map)"
   ]
  },
  {
   "cell_type": "code",
   "execution_count": 6,
   "metadata": {},
   "outputs": [
    {
     "name": "stdout",
     "output_type": "stream",
     "text": [
      "Running flow for colour calibration\n",
      "Writer will save images to /home/andrew/personal/river-flow/data/small/\n",
      "CPU times: user 826 ms, sys: 153 µs, total: 826 ms\n",
      "Wall time: 825 ms\n"
     ]
    }
   ],
   "source": [
    "%%time\n",
    "print(\"Running flow for colour calibration\")\n",
    "nodes_with_flow = flow(graph, DummyWriter())\n",
    "flows = [n.flow for n in nodes_with_flow.ascending()]\n",
    "writer = ImageWriter(size, frequency, job_name, get_colour_function(flows))"
   ]
  },
  {
   "cell_type": "code",
   "execution_count": 7,
   "metadata": {},
   "outputs": [
    {
     "name": "stdout",
     "output_type": "stream",
     "text": [
      "Running real flow simulation\n",
      "Processed 2% of 250000 images.\n",
      "Processed 4% of 250000 images.\n",
      "Processed 6% of 250000 images.\n",
      "Processed 8% of 250000 images.\n",
      "Processed 10% of 250000 images.\n",
      "Processed 12% of 250000 images.\n",
      "Processed 14% of 250000 images.\n",
      "Processed 16% of 250000 images.\n",
      "Processed 18% of 250000 images.\n",
      "Processed 20% of 250000 images.\n",
      "Processed 22% of 250000 images.\n",
      "Processed 24% of 250000 images.\n",
      "Processed 26% of 250000 images.\n",
      "Processed 28% of 250000 images.\n",
      "Processed 30% of 250000 images.\n",
      "Processed 32% of 250000 images.\n",
      "Processed 34% of 250000 images.\n",
      "Processed 36% of 250000 images.\n",
      "Processed 38% of 250000 images.\n",
      "Processed 40% of 250000 images.\n",
      "Processed 42% of 250000 images.\n",
      "Processed 44% of 250000 images.\n",
      "Processed 46% of 250000 images.\n",
      "Processed 48% of 250000 images.\n",
      "Processed 50% of 250000 images.\n",
      "Processed 52% of 250000 images.\n",
      "Processed 54% of 250000 images.\n",
      "Processed 56% of 250000 images.\n",
      "Processed 58% of 250000 images.\n",
      "Processed 60% of 250000 images.\n",
      "Processed 62% of 250000 images.\n",
      "Processed 64% of 250000 images.\n",
      "Processed 66% of 250000 images.\n",
      "Processed 68% of 250000 images.\n",
      "Processed 70% of 250000 images.\n",
      "Processed 72% of 250000 images.\n",
      "Processed 74% of 250000 images.\n",
      "Processed 76% of 250000 images.\n",
      "Processed 78% of 250000 images.\n",
      "Processed 80% of 250000 images.\n",
      "Processed 82% of 250000 images.\n",
      "Processed 84% of 250000 images.\n",
      "Processed 86% of 250000 images.\n",
      "Processed 88% of 250000 images.\n",
      "Processed 90% of 250000 images.\n",
      "Processed 92% of 250000 images.\n",
      "Processed 94% of 250000 images.\n",
      "Processed 96% of 250000 images.\n",
      "Processed 98% of 250000 images.\n",
      "Processed 100% of 250000 images.\n",
      "CPU times: user 1 s, sys: 131 ms, total: 1.13 s\n",
      "Wall time: 1.12 s\n"
     ]
    }
   ],
   "source": [
    "%%time\n",
    "print(\"Running real flow simulation\")\n",
    "flow(graph, writer)"
   ]
  }
 ],
 "metadata": {
  "kernelspec": {
   "display_name": "Python 3",
   "language": "python",
   "name": "python3"
  },
  "language_info": {
   "codemirror_mode": {
    "name": "ipython",
    "version": 3
   },
   "file_extension": ".py",
   "mimetype": "text/x-python",
   "name": "python",
   "nbconvert_exporter": "python",
   "pygments_lexer": "ipython3",
   "version": "3.7.1"
  }
 },
 "nbformat": 4,
 "nbformat_minor": 2
}
